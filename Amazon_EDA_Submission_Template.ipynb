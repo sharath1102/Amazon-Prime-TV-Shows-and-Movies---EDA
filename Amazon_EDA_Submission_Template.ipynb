{
  "nbformat": 4,
  "nbformat_minor": 0,
  "metadata": {
    "colab": {
      "private_outputs": true,
      "provenance": [],
      "collapsed_sections": [
        "mDgbUHAGgjLW",
        "t27r6nlMphqO",
        "r2jJGEOYphqO",
        "b0JNsNcRphqO",
        "jj7wYXLtphqO",
        "eZrbJ2SmphqO",
        "rFu4xreNphqO",
        "ylSl6qgtp1ck",
        "ZWILFDl5p1ck",
        "M7G43BXep1ck",
        "E6MkPsBcp1cl",
        "2cELzS2fp1cl",
        "3MPXvC8up1cl"
      ]
    },
    "kernelspec": {
      "name": "python3",
      "display_name": "Python 3"
    },
    "language_info": {
      "name": "python"
    }
  },
  "cells": [
    {
      "cell_type": "markdown",
      "source": [
        "# **Project Name**    - ***Amazon Prime TV Shows and Movies - EDA***\n",
        "\n"
      ],
      "metadata": {
        "id": "vncDsAP0Gaoa"
      }
    },
    {
      "cell_type": "markdown",
      "source": [
        "##### **Project Type**    - EDA\n",
        "##### **Contribution**    - Individual\n",
        "##### **Team Member 1 - Sharath Yelle**"
      ],
      "metadata": {
        "id": "beRrZCGUAJYm"
      }
    },
    {
      "cell_type": "markdown",
      "source": [
        "# **Project Summary -**"
      ],
      "metadata": {
        "id": "FJNUwmbgGyua"
      }
    },
    {
      "cell_type": "markdown",
      "source": [
        "This project involves exploratory data analysis of Amazon Prime’s catalog of TV shows and movies to uncover key trends and insights. Using structured data, the project examines various aspects such as content type distribution (Movies vs TV Shows), popular genres, IMDb ratings, release year trends, and country-wise content availability. Visualizations and data summaries help identify which genres are most common, how content ratings are distributed, how Prime’s content library has evolved over time, and which regions contribute the most content. The findings provide a deeper understanding of Amazon Prime's content strategy and offer data-driven recommendations to enhance viewer engagement and platform performance.\n",
        "\n"
      ],
      "metadata": {
        "id": "F6v_1wHtG2nS"
      }
    },
    {
      "cell_type": "markdown",
      "source": [
        "# **GitHub Link -**"
      ],
      "metadata": {
        "id": "w6K7xa23Elo4"
      }
    },
    {
      "cell_type": "markdown",
      "source": [
        "[GitHub Repo Link](https://github.com/sharath1102/Amazon-Prime-TV-Shows-and-Movies---EDA)  Click here for link"
      ],
      "metadata": {
        "id": "h1o69JH3Eqqn"
      }
    },
    {
      "cell_type": "markdown",
      "source": [
        "# **Problem Statement**\n"
      ],
      "metadata": {
        "id": "yQaldy8SH6Dl"
      }
    },
    {
      "cell_type": "markdown",
      "source": [
        "With the increasing competition in the OTT (Over-The-Top) streaming industry, it is essential for platforms like Amazon Prime to understand viewer preferences, content performance, and distribution trends. This project aims to analyze Amazon Prime's catalog of TV shows and movies to uncover insights about genre popularity, content type distribution, ratings, release trends, and geographic representation. The goal is to identify patterns that can guide data-driven decisions for content strategy and user engagement"
      ],
      "metadata": {
        "id": "DpeJGUA3kjGy"
      }
    },
    {
      "cell_type": "markdown",
      "source": [
        "#### **Define Your Business Objective?**"
      ],
      "metadata": {
        "id": "PH-0ReGfmX4f"
      }
    },
    {
      "cell_type": "markdown",
      "source": [
        "To analyze Amazon Prime’s TV shows and movies dataset in order to uncover meaningful insights about content distribution, genre popularity, ratings, and temporal trends. The goal is to help stakeholders understand viewer preferences and content performance, enabling data-driven decisions for improving content curation, user engagement, and competitive positioning in the OTT streaming market."
      ],
      "metadata": {
        "id": "PhDvGCAqmjP1"
      }
    },
    {
      "cell_type": "markdown",
      "source": [
        "# **General Guidelines** : -  "
      ],
      "metadata": {
        "id": "mDgbUHAGgjLW"
      }
    },
    {
      "cell_type": "markdown",
      "source": [
        "1.   Well-structured, formatted, and commented code is required.\n",
        "2.   Exception Handling, Production Grade Code & Deployment Ready Code will be a plus. Those students will be awarded some additional credits.\n",
        "     \n",
        "     The additional credits will have advantages over other students during Star Student selection.\n",
        "       \n",
        "             [ Note: - Deployment Ready Code is defined as, the whole .ipynb notebook should be executable in one go\n",
        "                       without a single error logged. ]\n",
        "\n",
        "3.   Each and every logic should have proper comments.\n",
        "4. You may add as many number of charts you want. Make Sure for each and every chart the following format should be answered.\n",
        "        \n",
        "\n",
        "```\n",
        "# Chart visualization code\n",
        "```\n",
        "            \n",
        "\n",
        "*   Why did you pick the specific chart?\n",
        "*   What is/are the insight(s) found from the chart?\n",
        "* Will the gained insights help creating a positive business impact?\n",
        "Are there any insights that lead to negative growth? Justify with specific reason.\n",
        "\n",
        "5. You have to create at least 20 logical & meaningful charts having important insights.\n",
        "\n",
        "\n",
        "[ Hints : - Do the Vizualization in  a structured way while following \"UBM\" Rule.\n",
        "\n",
        "U - Univariate Analysis,\n",
        "\n",
        "B - Bivariate Analysis (Numerical - Categorical, Numerical - Numerical, Categorical - Categorical)\n",
        "\n",
        "M - Multivariate Analysis\n",
        " ]\n",
        "\n",
        "\n",
        "\n"
      ],
      "metadata": {
        "id": "ZrxVaUj-hHfC"
      }
    },
    {
      "cell_type": "markdown",
      "source": [
        "# ***Let's Begin !***"
      ],
      "metadata": {
        "id": "O_i_v8NEhb9l"
      }
    },
    {
      "cell_type": "markdown",
      "source": [
        "## ***1. Know Your Data***"
      ],
      "metadata": {
        "id": "HhfV-JJviCcP"
      }
    },
    {
      "cell_type": "markdown",
      "source": [
        "### Import Libraries"
      ],
      "metadata": {
        "id": "Y3lxredqlCYt"
      }
    },
    {
      "cell_type": "code",
      "source": [
        "import pandas as pd\n",
        "import numpy as np\n",
        "import matplotlib.pyplot as plt\n",
        "import seaborn as sns"
      ],
      "metadata": {
        "id": "M8Vqi-pPk-HR"
      },
      "execution_count": null,
      "outputs": []
    },
    {
      "cell_type": "markdown",
      "source": [
        "### Dataset Loading"
      ],
      "metadata": {
        "id": "3RnN4peoiCZX"
      }
    },
    {
      "cell_type": "code",
      "source": [
        "credits = pd.read_csv(\"//content//credits.csv.zip\")\n",
        "titles = pd.read_csv(\"//content//titles.csv.zip\")"
      ],
      "metadata": {
        "id": "4CkvbW_SlZ_R"
      },
      "execution_count": null,
      "outputs": []
    },
    {
      "cell_type": "markdown",
      "source": [
        "### Dataset First View"
      ],
      "metadata": {
        "id": "x71ZqKXriCWQ"
      }
    },
    {
      "cell_type": "code",
      "source": [
        "credits.head()"
      ],
      "metadata": {
        "id": "LWNFOSvLl09H"
      },
      "execution_count": null,
      "outputs": []
    },
    {
      "cell_type": "code",
      "source": [
        "credits.id.nunique()"
      ],
      "metadata": {
        "id": "7fnWtGiorAel"
      },
      "execution_count": null,
      "outputs": []
    },
    {
      "cell_type": "code",
      "source": [
        "titles.head()"
      ],
      "metadata": {
        "id": "ioJBN1Srns3o"
      },
      "execution_count": null,
      "outputs": []
    },
    {
      "cell_type": "code",
      "source": [
        "import pandas as pd\n",
        "# merge two datasets based on common column id\n",
        "merged_df = pd.merge(titles, credits, on = 'id')\n",
        "merged_df.head()"
      ],
      "metadata": {
        "id": "W8lz7JuRn_Jf"
      },
      "execution_count": null,
      "outputs": []
    },
    {
      "cell_type": "code",
      "source": [
        "merged_df.head()"
      ],
      "metadata": {
        "id": "IMKejq-AoIRH"
      },
      "execution_count": null,
      "outputs": []
    },
    {
      "cell_type": "markdown",
      "source": [
        "### Dataset Rows & Columns count"
      ],
      "metadata": {
        "id": "7hBIi_osiCS2"
      }
    },
    {
      "cell_type": "code",
      "source": [
        "# Dataset Rows & Columns count\n",
        "print(credits.shape)\n",
        "print(titles.shape)\n",
        "print(merged_df.shape)"
      ],
      "metadata": {
        "id": "Kllu7SJgmLij"
      },
      "execution_count": null,
      "outputs": []
    },
    {
      "cell_type": "markdown",
      "source": [
        "### Dataset Information"
      ],
      "metadata": {
        "id": "JlHwYmJAmNHm"
      }
    },
    {
      "cell_type": "code",
      "source": [
        "# Dataset Info\n",
        "merged_df.info()"
      ],
      "metadata": {
        "id": "e9hRXRi6meOf"
      },
      "execution_count": null,
      "outputs": []
    },
    {
      "cell_type": "markdown",
      "source": [
        "#### Duplicate Values"
      ],
      "metadata": {
        "id": "35m5QtbWiB9F"
      }
    },
    {
      "cell_type": "code",
      "source": [
        "# Dataset Duplicate Value Count\n",
        "merged_df.duplicated().sum()"
      ],
      "metadata": {
        "id": "1sLdpKYkmox0"
      },
      "execution_count": null,
      "outputs": []
    },
    {
      "cell_type": "markdown",
      "source": [
        "#### Missing Values/Null Values"
      ],
      "metadata": {
        "id": "PoPl-ycgm1ru"
      }
    },
    {
      "cell_type": "code",
      "source": [
        "# Missing Values/Null Values Count\n",
        "merged_df.isnull().sum()"
      ],
      "metadata": {
        "id": "GgHWkxvamxVg"
      },
      "execution_count": null,
      "outputs": []
    },
    {
      "cell_type": "code",
      "source": [
        "# Visualizing the missing values\n",
        "merged_df.isnull().sum().plot(kind='bar')"
      ],
      "metadata": {
        "id": "3q5wnI3om9sJ"
      },
      "execution_count": null,
      "outputs": []
    },
    {
      "cell_type": "markdown",
      "source": [
        "### What did you know about your dataset?"
      ],
      "metadata": {
        "id": "H0kj-8xxnORC"
      }
    },
    {
      "cell_type": "markdown",
      "source": [
        "Based on the initial inspection of the merged dataset, here's what I know:\n",
        "\n",
        "The dataset contains **124,347 rows and 19 columns**.\\\n",
        "It includes information about Amazon Prime Video titles (movies and TV shows) and the cast and crew associated with them.\\\n",
        "The columns include details such as title ID, title, type (movie or show), description, release year, age certification, runtime, genres, production countries, seasons (for TV shows), IMDb ID, IMDb score, IMDb votes, TMDB popularity, TMDB score, person ID, name, character, and role.\\\n",
        "\n",
        "There are **168 duplicate rows** in the dataset.\\\n",
        "Several columns have missing values, notably age_certification, seasons, imdb_id, imdb_score, imdb_votes, tmdb_popularity, tmdb_score, and character.\\\n",
        "** seasons ** has the highest number of missing values, which is expected as it's only relevant for TV shows.\\\n",
        " age_certification also has a significant number of missing values.\n",
        "\n",
        "This initial look suggests that some data cleaning will be necessary, particularly handling missing values and duplicate rows, before proceeding with the exploratory data analysis."
      ],
      "metadata": {
        "id": "gfoNAAC-nUe_"
      }
    },
    {
      "cell_type": "markdown",
      "source": [
        "## ***2. Understanding Your Variables***"
      ],
      "metadata": {
        "id": "nA9Y7ga8ng1Z"
      }
    },
    {
      "cell_type": "code",
      "source": [
        "# Dataset Columns\n",
        "merged_df.columns"
      ],
      "metadata": {
        "id": "j7xfkqrt5Ag5"
      },
      "execution_count": null,
      "outputs": []
    },
    {
      "cell_type": "code",
      "source": [
        "# Dataset Describe\n",
        "merged_df.describe()"
      ],
      "metadata": {
        "id": "DnOaZdaE5Q5t"
      },
      "execution_count": null,
      "outputs": []
    },
    {
      "cell_type": "markdown",
      "source": [
        "### Variables Description"
      ],
      "metadata": {
        "id": "PBTbrJXOngz2"
      }
    },
    {
      "cell_type": "markdown",
      "source": [
        "\n",
        "\n",
        "1.   id: Unique identifier for each title (object).\n",
        "2. title: Title of the movie or TV show (object).\n",
        "3. type: Type of content (MOVIE or      SHOW) (object).\n",
        "4. description: A brief description of the title (object).\n",
        "5. release_year: The year the title was released (int64).\n",
        "6. age_certification: Age rating for the title (object).\n",
        "7. runtime: Duration of the movie in minutes or average episode runtime for TV shows (int64).\n",
        "8. genres: List of genres associated with the title (object).\n",
        "9. production_countries: List of countries where the title was produced (object).\n",
        "10. seasons: Number of seasons for TV shows (float64). This is null for movies.\n",
        "11. imdb_id: IMDb identifier for the title (object).\n",
        "12. imdb_score: IMDb rating of the title (float64).\n",
        "13. imdb_votes: Number of IMDb votes for the title (float64).\n",
        "14. tmdb_popularity: Popularity score from The Movie Database (float64).\n",
        "15. tmdb_score: TMDB rating of the title (float64).\n",
        "16. person_id: Unique identifier for each person (actor or director) (int64).\n",
        "17. name: Name of the person (object).\n",
        "18. character: The character played by the actor (object). This is null for directors.\n",
        "19. role: Role of the person (ACTOR or DIRECTOR) (object).\n",
        "\n",
        "\n",
        "\n",
        "\n"
      ],
      "metadata": {
        "id": "aJV4KIxSnxay"
      }
    },
    {
      "cell_type": "markdown",
      "source": [
        "### Check Unique Values for each variable."
      ],
      "metadata": {
        "id": "u3PMJOP6ngxN"
      }
    },
    {
      "cell_type": "code",
      "source": [
        "# Check Unique Values for each variable.\n",
        "merged_df.nunique()"
      ],
      "metadata": {
        "id": "zms12Yq5n-jE"
      },
      "execution_count": null,
      "outputs": []
    },
    {
      "cell_type": "markdown",
      "source": [
        "## 3. ***Data Wrangling***"
      ],
      "metadata": {
        "id": "dauF4eBmngu3"
      }
    },
    {
      "cell_type": "markdown",
      "source": [
        "### Data Wrangling Code"
      ],
      "metadata": {
        "id": "bKJF3rekwFvQ"
      }
    },
    {
      "cell_type": "code",
      "source": [
        "# Handling Duplicate Values\n",
        "# Handling Missing Values\n",
        "# Convert Data Types\n",
        "# Feature Engineering"
      ],
      "metadata": {
        "id": "wk-9a2fpoLcV"
      },
      "execution_count": null,
      "outputs": []
    },
    {
      "cell_type": "markdown",
      "source": [
        "## Handle duplicate values\n",
        "\n",
        "### Subtask:\n",
        "Remove duplicate rows from the merged DataFrame.\n"
      ],
      "metadata": {
        "id": "broW8FZyNrcX"
      }
    },
    {
      "cell_type": "markdown",
      "metadata": {
        "id": "Ne6ERl4nNkCk"
      },
      "source": [
        "**Reasoning**:\n",
        "The current subtask is to remove duplicate rows from the merged DataFrame. The first step is to use `.duplicated()` and `.sum()` to count the number of duplicate rows, then use `.drop_duplicates()` to remove them, and finally verify the removal by counting duplicates again.\n",
        "\n"
      ]
    },
    {
      "cell_type": "code",
      "source": [
        "merged_df.drop_duplicates(inplace=True)\n",
        "print(merged_df.duplicated().sum())"
      ],
      "metadata": {
        "id": "wC4hlJRqutSg"
      },
      "execution_count": null,
      "outputs": []
    },
    {
      "cell_type": "markdown",
      "metadata": {
        "id": "HOEnU1yDOIQr"
      },
      "source": [
        "## Handle missing values\n",
        "\n",
        "### Subtask:\n",
        "Address the missing values in the relevant columns. This may involve imputation, dropping rows/columns, or other strategies based on the nature of the missing data and the planned analysis.\n"
      ]
    },
    {
      "cell_type": "markdown",
      "metadata": {
        "id": "7a6GBhANOIQr"
      },
      "source": [
        "**Reasoning**:\n",
        "The previous attempts to fill missing values using `inplace=True` resulted in `FutureWarning`. According to the instructions, I need to use the assignment operator with `.fillna()` to avoid this warning and correctly fill the missing values in the specified columns. I will combine all the fillna operations into one code block for efficiency, addressing each column mentioned in the instructions.\n",
        "\n"
      ]
    },
    {
      "cell_type": "markdown",
      "source": [
        "\n",
        "1. Handling missing values for IMDb and TMDB columns\n",
        "For numerical columns like scores and votes, filling with mean, median, or 0 can be options.\n",
        "2. Since 0 votes or score might indicate truly unknown or unrated content,\n",
        "filling with 0 seems reasonable for 'imdb_votes' and 'tmdb_popularity'\n",
        "3. For 'imdb_score' and 'tmdb_score', using the mean might be a better approach if we want to avoid\n",
        "biasing the data towards lower scores, but filling with a specific value (like 0 or NaN)\n",
        "and handling those cases during analysis is also valid.\n",
        "4. Let's fill 'imdb_score' and 'tmdb_score' with their respective means.\n",
        "5. For 'imdb_id', since it's an identifier, we can't fill it with a meaningful value.\n",
        "6. We could fill with a placeholder like 'Unknown' or leave as NaN. Leaving as NaN is generally\n",
        "preferred for object types where a replacement value isn't a valid identifier.\n",
        "7. Let's check the data type of imdb_id first. It is object.\n",
        "8. Let's fill the numerical columns with the mean for scores and 0 for votes/popularity.\n",
        "\n"
      ],
      "metadata": {
        "id": "inRS9KC8GBuH"
      }
    },
    {
      "cell_type": "code",
      "source": [
        "# Fill missing values in 'description'\n",
        "merged_df['description'] = merged_df['description'].fillna('No description available')\n",
        "\n",
        "# Fill missing values in 'age_certification'\n",
        "merged_df['age_certification'] = merged_df['age_certification'].fillna('Not Rated')\n",
        "\n",
        "# Fill missing values in 'seasons'\n",
        "merged_df['seasons'] = merged_df['seasons'].fillna(0)\n",
        "\n",
        "# Fill missing values in 'imdb_score'\n",
        "merged_df['imdb_score'] = merged_df['imdb_score'].fillna(merged_df['imdb_score'].mean())\n",
        "\n",
        "# Fill missing values in 'imdb_votes'\n",
        "merged_df['imdb_votes'] = merged_df['imdb_votes'].fillna(0)  # Filling votes with 0 makes sense for unvoted content\n",
        "\n",
        "# Fill missing values in 'tmdb_popularity'\n",
        "merged_df['tmdb_popularity'] = merged_df['tmdb_popularity'].fillna(0)   # Filling popularity with 0 makes sense for content with no popularity data\n",
        "\n",
        "# Fill missing values in 'tmdb_score'\n",
        "merged_df['tmdb_score'] = merged_df['tmdb_score'].fillna(merged_df['tmdb_score'].mean())\n",
        "\n",
        "# Fill missing values in 'imdb_id'\n",
        "# For 'imdb_id', leaving as NaN or filling with a placeholder like 'Unknown'\n",
        "# Let's fill with 'Unknown' for consistency, although NaN is also acceptable.\n",
        "merged_df['imdb_id'] = merged_df['imdb_id'].fillna('Unknown')\n",
        "\n",
        "# Fill missing values in 'character'\n",
        "# The 'character' column has missing values, which are likely for rows where the 'role' is 'DIRECTOR'.\n",
        "# We can fill these missing 'character' values with 'N/A' or 'Not Applicable' as directors don't play characters.\n",
        "merged_df['character'] = merged_df['character'].fillna('N/A')\n",
        "\n",
        "# Verify that missing values have been handled\n",
        "print(\"Missing values after handling:\")\n",
        "print(merged_df.isnull().sum())"
      ],
      "metadata": {
        "id": "zTzGwwy9IRNr"
      },
      "execution_count": null,
      "outputs": []
    },
    {
      "cell_type": "code",
      "source": [
        "# Double check the number of unique values after dropping duplicates and filling missing values\n",
        "print(\"\\nUnique values after data wrangling:\")\n",
        "print(merged_df.nunique())\n",
        "\n",
        "# Display info and head to see the data types and structure after wrangling\n",
        "print(\"\\nInfo after data wrangling:\")\n",
        "merged_df.info()"
      ],
      "metadata": {
        "id": "s940vQXCxkRL"
      },
      "execution_count": null,
      "outputs": []
    },
    {
      "cell_type": "code",
      "source": [
        "# Display data types to check if conversion is needed\n",
        "print(\"\\nData types before conversion:\")\n",
        "print(merged_df.dtypes)"
      ],
      "metadata": {
        "id": "aDgUojUwHOL8"
      },
      "execution_count": null,
      "outputs": []
    },
    {
      "cell_type": "markdown",
      "source": [
        "# **Convert data types**\n",
        "**Subtask:**\n",
        "*Convert data types of columns if necessary for analysis (e.g., converting 'genres' and 'production_countries' from string representations of lists to actual lists).*"
      ],
      "metadata": {
        "id": "pB9bho4gNQxz"
      }
    },
    {
      "cell_type": "markdown",
      "source": [
        "-- 'release_year' is already int64, which is suitable.\\\n",
        "-- 'runtime' is already int64, which is suitable.\n",
        "-- 'seasons' was float64 due to NaNs, now filled with 0, still float64. Can be converted to int.\\\n",
        "-- 'imdb_score' is float64, suitable for scores.\\\n",
        "-- 'imdb_votes' was float64 due to NaNs, now filled with 0, still float64. Can be converted to int if no fractional votes are expected. Votes are usually integers.\\\n",
        "-- 'tmdb_popularity' was float64 due to NaNs, now filled with 0, still float64. This is a score and can remain float.\\\n",
        "-- 'tmdb_score' is float64, suitable for scores.\n",
        "-- 'person_id' is int64, suitable."
      ],
      "metadata": {
        "id": "KqZ8_tGtHraB"
      }
    },
    {
      "cell_type": "code",
      "source": [
        "import ast\n",
        "\n",
        "# Convert 'seasons' to integer type\n",
        "# Use downcast='integer' to find the smallest integer dtype\n",
        "merged_df['seasons'] = pd.to_numeric(merged_df['seasons'], errors='coerce').fillna(0).astype(int)\n",
        "\n",
        "# Convert 'imdb_votes' to integer type\n",
        "merged_df['imdb_votes'] = pd.to_numeric(merged_df['imdb_votes'], errors='coerce').fillna(0).astype(int)\n",
        "\n"
      ],
      "metadata": {
        "id": "muvuVQGCK_KQ"
      },
      "execution_count": null,
      "outputs": []
    },
    {
      "cell_type": "code",
      "source": [
        "# 'type' and 'role' are categorical. Let's check their unique values to see if they can be converted to 'category' dtype to save memory.\n",
        "print(\"\\nUnique values for 'type':\", merged_df['type'].unique())\n",
        "print(\"Unique values for 'role':\", merged_df['role'].unique())"
      ],
      "metadata": {
        "id": "FIP2AV4eHN57"
      },
      "execution_count": null,
      "outputs": []
    },
    {
      "cell_type": "code",
      "source": [
        "# Convert categorical columns to 'category' dtype\n",
        "merged_df['type'] = merged_df['type'].astype('category')\n",
        "merged_df['role'] = merged_df['role'].astype('category')\n",
        "\n",
        "# Convert string representations of lists to actual lists for 'genres' and 'production_countries'\n",
        "merged_df['genres'] = merged_df['genres'].apply(lambda x: ast.literal_eval(x) if isinstance(x, str) else x)\n",
        "merged_df['production_countries'] = merged_df['production_countries'].apply(lambda x: ast.literal_eval(x) if isinstance(x, str) else x)"
      ],
      "metadata": {
        "id": "IgE-T8bpLeRk"
      },
      "execution_count": null,
      "outputs": []
    },
    {
      "cell_type": "code",
      "source": [
        "\n",
        "print(\"\\nUnique values for 'age_certification':\", merged_df['age_certification'].unique())\n",
        "merged_df['age_certification'] = merged_df['age_certification'].astype('category')"
      ],
      "metadata": {
        "id": "TDpoaao_HeaQ"
      },
      "execution_count": null,
      "outputs": []
    },
    {
      "cell_type": "code",
      "source": [
        "# 'genres' and 'production_countries' are strings representing lists. They might need\n",
        "# further processing (like splitting into lists) depending on the analysis, but for now,\n",
        "# keeping them as objects is fine.\n",
        "# 'description', 'title', 'imdb_id', 'character', 'name' are string/object types, which are appropriate.\n",
        "\n",
        "# Display data types after conversion\n",
        "print(\"\\nData types after conversion:\")\n",
        "print(merged_df.dtypes)"
      ],
      "metadata": {
        "id": "1-RZnFsrHeRd"
      },
      "execution_count": null,
      "outputs": []
    },
    {
      "cell_type": "markdown",
      "source": [
        "# **Feature engineering**\n",
        "**Subtask:**\n",
        "Create new features if needed for analysis (e.g., extracting the primary genre or country).\n",
        "\n",
        " *Define a function to extract the first element from a list and apply it to the 'genres' and 'production_countries' columns to create new 'primary_genre' and 'primary_country' columns. Then, display the head of the DataFrame to show the new columns.*"
      ],
      "metadata": {
        "id": "EEinCneFMYw7"
      }
    },
    {
      "cell_type": "code",
      "source": [
        "# Define a function to extract the first element from a list\n",
        "def get_first_element(list_column):\n",
        "  \"\"\"\n",
        "  Extracts the first element from a list of strings.\n",
        "\n",
        "  Args:\n",
        "    list_column: A list of strings or a non-list value.\n",
        "\n",
        "  Returns:\n",
        "    The first element of the list if it's a non-empty list,\n",
        "    otherwise returns 'Unknown'.\n",
        "  \"\"\"\n",
        "  if isinstance(list_column, list) and len(list_column) > 0:\n",
        "    return list_column[0]\n",
        "  else:\n",
        "    return 'Unknown'\n",
        "\n",
        "# Apply the function to create 'primary_genre' column\n",
        "merged_df['primary_genre'] = merged_df['genres'].apply(get_first_element)\n",
        "\n",
        "# Apply the function to create 'primary_country' column\n",
        "merged_df['primary_country'] = merged_df['production_countries'].apply(get_first_element)"
      ],
      "metadata": {
        "id": "VEDYV8PXMYFs"
      },
      "execution_count": null,
      "outputs": []
    },
    {
      "cell_type": "code",
      "source": [
        "# Display the head of the dataframe to see the effect of conversions\n",
        "print(\"\\nDataFrame head after data type conversions:\")\n",
        "merged_df.head()"
      ],
      "metadata": {
        "id": "P6KXOIcAxkLd"
      },
      "execution_count": null,
      "outputs": []
    },
    {
      "cell_type": "markdown",
      "source": [
        "### What all manipulations have you done and insights you found?"
      ],
      "metadata": {
        "id": "MSa1f5Uengrz"
      }
    },
    {
      "cell_type": "markdown",
      "metadata": {
        "id": "c65b2b02"
      },
      "source": [
        "data manipulations performed and the initial insights gained during the \"Know Your Data\" and \"Data Wrangling\" phases:\n",
        "\n",
        "**Data Manipulations Perform\n",
        "ed:**\n",
        "\n",
        "1.  **Dataset Loading:** Loaded two CSV files, `credits.csv.zip` and `titles.csv.zip`, into pandas DataFrames named `credits` and `titles` respectively.\n",
        "2.  **Dataset Merging:** Merged the `titles` and `credits` DataFrames into a single DataFrame named `merged_df` using the common column `id`.\n",
        "3.  **Duplicate Handling:** Identified and removed 168 duplicate rows from the `merged_df` using the `drop_duplicates()` method with `inplace=True`.\n",
        "4.  **Missing Value Handling:** Addressed missing values in several columns:\n",
        "    *   `description`: Filled missing values with the string 'No description available'.\n",
        "    *   `age_certification`: Filled missing values with the string 'Not Rated'.\n",
        "    *   `seasons`: Filled missing values with `0`.\n",
        "    *   `imdb_score`: Filled missing values with the mean of the existing `imdb_score` values.\n",
        "    *   `imdb_votes`: Filled missing values with `0`.\n",
        "    *   `tmdb_popularity`: Filled missing values with `0`.\n",
        "    *   `tmdb_score`: Filled missing values with the mean of the existing `tmdb_score` values.\n",
        "    *   `imdb_id`: Filled missing values with the string 'Unknown'.\n",
        "    *   `character`: Filled missing values with the string 'N/A'.\n",
        "5.  **Data Type Conversion:**\n",
        "    *   Converted the `seasons` column from float64 to integer using `pd.to_numeric` and `astype(int)`.\n",
        "    *   Converted the `imdb_votes` column from float64 to integer using `pd.to_numeric` and `astype(int)`.\n",
        "    *   Converted the `type` and `role` columns to the 'category' data type.\n",
        "    *   Converted the string representation of lists in the `genres` and `production_countries` columns into actual Python lists using `ast.literal_eval`.\n",
        "    *   Converted the `age_certification` column to the 'category' data type.\n",
        "6.  **Feature Engineering:**\n",
        "    *   Created a new column `primary_genre` by extracting the first genre from the `genres` list for each row. If the list was empty or the data was not a list, it was filled with 'Unknown'.\n",
        "    *   Created a new column `primary_country` by extracting the first production country from the `production_countries` list for each row. If the list was empty or the data was not a list, it was filled with 'Unknown'.\n",
        "\n",
        "**Initial Insights Found:**\n",
        "\n",
        "1.  **Dataset Size and Structure:** The initial dataset was large, containing over 124,000 rows after merging, indicating a comprehensive catalog of titles and associated personnel. The 19 columns provided detailed information across various aspects of the content.\n",
        "2.  **Duplicate Data:** The presence of 168 duplicate rows highlighted the need for cleaning before analysis to ensure accurate counts and statistics.\n",
        "3.  **Missing Data Significance:** Several columns had a significant number of missing values, particularly `seasons`, `age_certification`, and rating/popularity scores. This indicated that not all titles had complete metadata, and appropriate handling (like filling with 0, mean, or 'Unknown') was necessary to proceed with analysis without losing too much data. The high number of missing values in `seasons` was expected for movies.\n",
        "4.  **Variable Types:** The variables included a mix of object (string), integer, and float types. The need for data type conversion for columns like `seasons` and `imdb_votes` was identified to ensure they were in appropriate numeric formats for analysis. Converting categorical columns to the 'category' dtype was a good step for memory efficiency.\n",
        "5.  **List Representation:** The `genres` and `production_countries` columns were stored as string representations of lists, requiring conversion to actual lists for easier processing and extraction of individual genres or countries.\n",
        "6.  **Data Ready for Analysis:** After handling duplicates, missing values, and converting data types, the `merged_df` is now in a more suitable format for exploratory data analysis, including the newly engineered `primary_genre` and `primary_country` features which will be useful for high-level categorical analysis.\n",
        "\n",
        "These initial manipulations and insights form the foundation for the subsequent exploratory data analysis (EDA) steps outlined in the project structure. The next phases will likely involve analyzing the distributions of these variables, looking for relationships between them, and creating visualizations to uncover deeper patterns in the Amazon Prime catalog."
      ]
    },
    {
      "cell_type": "markdown",
      "source": [
        "## ***4. Data Vizualization, Storytelling & Experimenting with charts : Understand the relationships between variables***"
      ],
      "metadata": {
        "id": "GF8Ens_Soomf"
      }
    },
    {
      "cell_type": "markdown",
      "source": [
        "#### Chart - 1"
      ],
      "metadata": {
        "id": "0wOQAZs5pc--"
      }
    },
    {
      "cell_type": "code",
      "source": [
        "# Flatten the list of genres and count occurrences\n",
        "all_genres = [genre for genres_list in merged_df['genres'] for genre in genres_list]\n",
        "genre_counts = pd.Series(all_genres).value_counts().sort_values(ascending=False)\n",
        "\n",
        "# Consider the top N genres for clarity in visualization\n",
        "top_n_genres = genre_counts.head(20) # Adjust N as needed\n",
        "\n",
        "# Chart visualization code\n",
        "plt.figure(figsize=(12, 8))\n",
        "sns.barplot(x=top_n_genres.index, y=top_n_genres.values, palette='viridis')\n",
        "plt.xticks(rotation=90)\n",
        "plt.xlabel(\"Genre\")\n",
        "plt.ylabel(\"Number of Titles\")\n",
        "plt.title(\"Top Genres by Number of Titles\")\n",
        "plt.tight_layout()\n",
        "plt.show()\n"
      ],
      "metadata": {
        "id": "7v_ESjsspbW7"
      },
      "execution_count": null,
      "outputs": []
    },
    {
      "cell_type": "markdown",
      "source": [
        "##### 1. Why did you pick the specific chart?"
      ],
      "metadata": {
        "id": "K5QZ13OEpz2H"
      }
    },
    {
      "cell_type": "markdown",
      "source": [
        "A bar chart is ideal for displaying the frequency distribution of categorical data. In this case, it effectively shows the count of titles for each genre, making it easy to compare the popularity of different genres at a glance."
      ],
      "metadata": {
        "id": "XESiWehPqBRc"
      }
    },
    {
      "cell_type": "markdown",
      "source": [
        "##### 2. What is/are the insight(s) found from the chart?"
      ],
      "metadata": {
        "id": "lQ7QKXXCp7Bj"
      }
    },
    {
      "cell_type": "markdown",
      "source": [
        "The chart reveals the most frequent genres in the amazon prime catalog based on the dataset. Genres like 'Comedy', 'Action', 'Thriller' and 'Documentation' appear to be the most common, indicating a stronger presence of these content types."
      ],
      "metadata": {
        "id": "C_j1G7yiqdRP"
      }
    },
    {
      "cell_type": "markdown",
      "source": [
        "##### 3. Will the gained insights help creating a positive business impact?\n",
        "Are there any insights that lead to negative growth? Justify with specific reason."
      ],
      "metadata": {
        "id": "448CDAPjqfQr"
      }
    },
    {
      "cell_type": "markdown",
      "source": [
        "Yes, this insight can have a positive business impact. Understanding the most prevalent genres helps Amazon Prime identify their current content strengths. This information can inform content acquisition strategies (e.g., investing more in popular genres or diversifying into less represented ones), marketing campaigns (targeting audiences interested in the dominant genres), and potentially content production decisions.\n",
        "\n",
        "---------------------------------------------------------\n",
        "While the chart itself shows distribution, a potential *indirect* negative insight could be if the platform is heavily saturated with certain genres that are not performing well in terms of viewership or engagement despite high content volume. However, based solely on the frequency chart, we cannot confirm negative growth. The chart just shows volume, not performance. Over-reliance on saturated genres without audience demand could lead to diminishing returns on content investment, potentially impacting subscriber growth or retention if viewers seek more variety or higher-quality content in other areas. Further analysis combining genre frequency with performance metrics (like IMDb score, TMDB popularity, or internal viewership data) would be needed to identify such a negative trend."
      ],
      "metadata": {
        "id": "3cspy4FjqxJW"
      }
    },
    {
      "cell_type": "markdown",
      "source": [
        "#### Chart - 2"
      ],
      "metadata": {
        "id": "KSlN3yHqYklG"
      }
    },
    {
      "cell_type": "code",
      "source": [
        "# prompt: heatmao of genres by country(count of each genre in each country)\n",
        "\n",
        "import matplotlib.pyplot as plt\n",
        "# Prepare data for heatmap: Count of each genre in each country\n",
        "# Explode genres and production_countries\n",
        "exploded_df = merged_df.explode('genres').explode('production_countries')\n",
        "\n",
        "# Group by primary_country and genres and count occurrences\n",
        "genre_country_counts = exploded_df.groupby(['primary_country', 'genres']).size().unstack(fill_value=0)\n",
        "\n",
        "# Consider top N countries and genres for a readable heatmap\n",
        "top_countries = merged_df['primary_country'].value_counts().head(15).index # Top 15 countries\n",
        "top_genres = genre_counts.head(15).index # Top 15 genres from previous analysis\n",
        "\n",
        "# Filter the pivot table to include only top countries and genres\n",
        "heatmap_data = genre_country_counts.loc[top_countries, top_genres]\n",
        "\n",
        "# Chart visualization code\n",
        "plt.figure(figsize=(15, 10))\n",
        "sns.heatmap(heatmap_data, annot=False, cmap=\"viridis\", fmt='d')\n",
        "plt.xlabel(\"Genre\")\n",
        "plt.ylabel(\"Country\")\n",
        "plt.title(\"Heatmap of Genre Distribution by Top 15 Countries\")\n",
        "plt.tight_layout()\n",
        "plt.show()\n",
        "\n",
        "# Why did you pick the specific chart?\n",
        "#\n",
        "\n",
        "# What is/are the insight(s) found from the chart?\n",
        "#\n",
        "# Will the gained insights help creating a positive business impact?\n",
        "#\n",
        "# Are there any insights that lead to negative growth? Justify with specific reason.\n",
        "# An indirect negative insight could be if a country that is a major source of content for Amazon Prime is producing a high volume of content in genres that are not performing well on the platform (low viewership, engagement, etc.). This would indicate a misalignment between content supply and viewer demand from that specific source. Additionally, if the heatmap shows a lack of content diversity from key production countries, it might indicate a potential blind spot in content acquisition, potentially limiting viewer options and impacting retention for those seeking variety. However, the heatmap itself only shows volume, not performance. To identify negative growth trends, this genre-country distribution data would need to be cross-referenced with performance metrics."
      ],
      "metadata": {
        "id": "R4YgtaqtYklH"
      },
      "execution_count": null,
      "outputs": []
    },
    {
      "cell_type": "markdown",
      "source": [
        "##### 1. Why did you pick the specific chart?"
      ],
      "metadata": {
        "id": "t6dVpIINYklI"
      }
    },
    {
      "cell_type": "markdown",
      "source": [
        " A heatmap is an excellent visualization to show the relationship between two categorical variables and a quantitative variable (count). In this case, it effectively displays the concentration of different genres within the top production countries, allowing for easy identification of which countries produce the most content in specific genres."
      ],
      "metadata": {
        "id": "5aaW0BYyYklI"
      }
    },
    {
      "cell_type": "markdown",
      "source": [
        "##### 2. What is/are the insight(s) found from the chart?"
      ],
      "metadata": {
        "id": "ijmpgYnKYklI"
      }
    },
    {
      "cell_type": "markdown",
      "source": [
        "The heatmap reveals which genres are most prevalent in the top content-producing countries. For example, it's likely that the 'United States' will have high counts across many genres, reflecting its large production volume. Other countries might show specialization in certain genres (e.g., a particular country being dominant in 'Documentation' or 'Comedy'). It highlights the global distribution and focus of content production by genre.\n"
      ],
      "metadata": {
        "id": "PSx9atu2YklI"
      }
    },
    {
      "cell_type": "markdown",
      "source": [
        "##### 3. Will the gained insights help creating a positive business impact?\n",
        "Are there any insights that lead to negative growth? Justify with specific reason."
      ],
      "metadata": {
        "id": "-JiQyfWJYklI"
      }
    },
    {
      "cell_type": "markdown",
      "source": [
        "Yes, this insight is highly valuable for a streaming service like Amazon Prime. It helps understand the source countries for popular genres. This can inform content licensing and acquisition strategies, identifying which countries are major suppliers of content in high-demand genres. It can also guide regional content strategies – understanding which genres are dominant in a specific country can help tailor content promotion and acquisition for that region. For instance, if a certain country predominantly produces 'Drama', Prime could focus on acquiring drama titles from that region for a global or specific regional audience.\n"
      ],
      "metadata": {
        "id": "BcBbebzrYklV"
      }
    },
    {
      "cell_type": "markdown",
      "source": [
        "#### Chart - 3"
      ],
      "metadata": {
        "id": "EM7whBJCYoAo"
      }
    },
    {
      "cell_type": "code",
      "source": [
        "# prompt: line chart : number of new titles released per release year\n",
        "\n",
        "import matplotlib.pyplot as plt\n",
        "# Prepare data for line chart: Number of new titles released per release year\n",
        "# Group by release year and count the number of unique titles\n",
        "# Ensure we are counting unique titles, not unique merged rows (which include cast/crew)\n",
        "# Let's use the original titles dataframe for this to avoid counting duplicates introduced by the merge.\n",
        "# Or, group the merged_df by 'id' (unique title) and count the release_year\n",
        "titles_per_year = merged_df.groupby('release_year')['id'].nunique().reset_index()\n",
        "\n",
        "# Sort by release year\n",
        "titles_per_year = titles_per_year.sort_values(by='release_year')\n",
        "\n",
        "# Consider a reasonable range of years for the chart\n",
        "# Let's filter for years where there's a substantial number of releases, e.g., after 1980\n",
        "titles_per_year_filtered = titles_per_year[titles_per_year['release_year'] >= 1980]\n",
        "\n",
        "# Chart visualization code\n",
        "plt.figure(figsize=(14, 7))\n",
        "sns.lineplot(data=titles_per_year_filtered, x='release_year', y='id')\n",
        "plt.xlabel(\"Release Year\")\n",
        "plt.ylabel(\"Number of New Titles Released\")\n",
        "plt.title(\"Number of New Titles Released per Release Year\")\n",
        "plt.grid(True)\n",
        "plt.tight_layout()\n",
        "plt.show()\n"
      ],
      "metadata": {
        "id": "t6GMdE67YoAp"
      },
      "execution_count": null,
      "outputs": []
    },
    {
      "cell_type": "markdown",
      "source": [
        "##### 1. Why did you pick the specific chart?"
      ],
      "metadata": {
        "id": "fge-S5ZAYoAp"
      }
    },
    {
      "cell_type": "markdown",
      "source": [
        "A line chart is suitable for showing trends over time. In this case, it effectively visualizes the change in the number of new titles added to the platform each year, allowing us to observe growth patterns, fluctuations, or steady increases/decreases in content volume over time."
      ],
      "metadata": {
        "id": "5dBItgRVYoAp"
      }
    },
    {
      "cell_type": "markdown",
      "source": [
        "##### 2. What is/are the insight(s) found from the chart?"
      ],
      "metadata": {
        "id": "85gYPyotYoAp"
      }
    },
    {
      "cell_type": "markdown",
      "source": [
        " The line chart shows the historical trend of content addition on Amazon Prime Video. It likely reveals a significant increase in the number of new titles released in recent years, suggesting a rapid expansion of the platform's content library, possibly correlating with the growth of the streaming market. There might be dips or plateaus in certain years, which could correspond to production cycles or strategic shifts."
      ],
      "metadata": {
        "id": "4jstXR6OYoAp"
      }
    },
    {
      "cell_type": "markdown",
      "source": [
        "##### 3. Will the gained insights help creating a positive business impact?\n",
        "Are there any insights that lead to negative growth? Justify with specific reason."
      ],
      "metadata": {
        "id": "RoGjAbkUYoAp"
      }
    },
    {
      "cell_type": "markdown",
      "source": [
        "Yes, this insight is crucial for business strategy. Understanding the rate of content acquisition/release helps in forecasting content costs, evaluating the pace of library growth relative to competitors, and assessing the effectiveness of content investment over time. A strong upward trend suggests a healthy investment in expanding the library, which is generally positive for attracting and retaining subscribers seeking new content."
      ],
      "metadata": {
        "id": "zfJ8IqMcYoAp"
      }
    },
    {
      "cell_type": "markdown",
      "source": [
        "#### Chart - 4"
      ],
      "metadata": {
        "id": "4Of9eVA-YrdM"
      }
    },
    {
      "cell_type": "code",
      "source": [
        "# Prepare data for stacked area chart: Titles per release_year grouped by type or genre\n",
        "\n",
        "# Group by release_year and type, count unique titles\n",
        "titles_by_year_type = merged_df.groupby(['release_year', 'type'])['id'].nunique().reset_index()\n",
        "\n",
        "# Pivot the table to get years as index, types as columns, and counts as values\n",
        "titles_by_year_type_pivot = titles_by_year_type.pivot(index='release_year', columns='type', values='id').fillna(0)\n",
        "\n",
        "# Filter for a reasonable range of years for visualization\n",
        "titles_by_year_type_filtered = titles_by_year_type_pivot[titles_by_year_type_pivot.index >= 1980]\n",
        "\n",
        "# Chart visualization code - Stacked Area Chart by Type\n",
        "plt.figure(figsize=(14, 8))\n",
        "plt.stackplot(titles_by_year_type_filtered.index,\n",
        "              titles_by_year_type_filtered['MOVIE'],\n",
        "              titles_by_year_type_filtered['SHOW'],\n",
        "              labels=['Movie', 'TV Show'],\n",
        "              alpha=0.8)\n",
        "\n",
        "plt.xlabel(\"Release Year\")\n",
        "plt.ylabel(\"Number of New Titles Released\")\n",
        "plt.title(\"Number of New Titles Released per Year by Type\")\n",
        "plt.legend(loc='upper left')\n",
        "plt.grid(True)\n",
        "plt.tight_layout()\n",
        "plt.show()\n",
        "\n",
        "# Prepare data for stacked area chart: Titles per release_year grouped by primary_genre\n",
        "\n",
        "# Group by release_year and primary_genre, count unique titles\n",
        "titles_by_year_genre = merged_df.groupby(['release_year', 'primary_genre'])['id'].nunique().reset_index()\n",
        "\n",
        "# Get the top N primary genres for clarity (e.g., top 10 or 15)\n",
        "top_n_genres = merged_df['primary_genre'].value_counts().head(10).index.tolist() # Adjust N as needed\n",
        "\n",
        "# Filter the data to include only top N genres\n",
        "titles_by_year_genre_filtered = titles_by_year_genre[titles_by_year_genre['primary_genre'].isin(top_n_genres)]\n",
        "\n",
        "# Pivot the table to get years as index, genres as columns, and counts as values\n",
        "titles_by_year_genre_pivot = titles_by_year_genre_filtered.pivot(index='release_year', columns='primary_genre', values='id').fillna(0)\n",
        "\n",
        "# Ensure the pivot table index is sorted\n",
        "titles_by_year_genre_pivot = titles_by_year_genre_pivot.sort_index()\n",
        "\n",
        "# Filter for a reasonable range of years for visualization\n",
        "titles_by_year_genre_pivot_filtered = titles_by_year_genre_pivot[titles_by_year_genre_pivot.index >= 1980]\n",
        "\n",
        "\n",
        "# Chart visualization code - Stacked Area Chart by Primary Genre\n",
        "plt.figure(figsize=(16, 10))\n",
        "plt.stackplot(titles_by_year_genre_pivot_filtered.index,\n",
        "              titles_by_year_genre_pivot_filtered.values.T, # Transpose values to stack correctly\n",
        "              labels=titles_by_year_genre_pivot_filtered.columns,\n",
        "              alpha=0.8)\n",
        "\n",
        "plt.xlabel(\"Release Year\")\n",
        "plt.ylabel(\"Number of New Titles Released\")\n",
        "plt.title(\"Number of New Titles Released per Year by Top Genres\")\n",
        "plt.legend(loc='upper left', bbox_to_anchor=(1, 1)) # Place legend outside plot\n",
        "plt.grid(True)\n",
        "plt.tight_layout(rect=[0, 0, 0.85, 1]) # Adjust layout to make space for legend\n",
        "plt.show()"
      ],
      "metadata": {
        "id": "irlUoxc8YrdO"
      },
      "execution_count": null,
      "outputs": []
    },
    {
      "cell_type": "markdown",
      "source": [
        "##### 1. Why did you pick the specific chart?"
      ],
      "metadata": {
        "id": "iky9q4vBYrdO"
      }
    },
    {
      "cell_type": "markdown",
      "source": [
        "A stacked area chart is excellent for showing how the composition of a total changes over time. By stacking the counts of titles grouped by 'type' (Movie vs. TV Show) or 'primary_genre' on top of each other, we can see the overall trend in content volume over the years (like the line chart) while simultaneously observing the proportional contribution of each category (type or genre) to that total year by year. This allows us to identify shifts in content strategy, such as an increasing focus on TV shows versus movies, or the rise/fall of specific genres over time.\n"
      ],
      "metadata": {
        "id": "aJRCwT6DYrdO"
      }
    },
    {
      "cell_type": "markdown",
      "source": [
        "##### 2. What is/are the insight(s) found from the chart?"
      ],
      "metadata": {
        "id": "F6T5p64dYrdO"
      }
    },
    {
      "cell_type": "markdown",
      "source": [
        "The stacked area chart by *Type* will show the yearly distribution of new releases between Movies and TV Shows. It will likely reveal that Movies historically dominated the releases, but in recent years, the volume of TV Shows might have increased significantly, indicating a strategic shift towards episodic content.\\\n",
        "The stacked area chart by *Genre* will show the yearly release trends for the top genres. It can reveal periods where certain genres saw a surge in releases (e.g., 'Comedy' peaking in the 2000s, or 'Documentation' increasing rapidly in recent years), showing how the genre mix of the library has evolved. It also highlights which genres consistently contribute a large volume of content.\n"
      ],
      "metadata": {
        "id": "Xx8WAJvtYrdO"
      }
    },
    {
      "cell_type": "markdown",
      "source": [
        "##### 3. Will the gained insights help creating a positive business impact?\n",
        "Are there any insights that lead to negative growth? Justify with specific reason."
      ],
      "metadata": {
        "id": "y-Ehk30pYrdP"
      }
    },
    {
      "cell_type": "markdown",
      "source": [
        "Yes, significantly. These charts provide insights into Amazon Prime's historical content strategy.\n",
        "- By Type: Understanding the balance between Movies and TV Shows added each year helps evaluate if the platform is aligning with viewer consumption trends (e.g., are viewers spending more time on shows?). It can inform future investment in either category to meet demand and stay competitive. If TV shows are driving engagement, increasing the focus on show acquisition/production would be a positive impact.\n",
        "- By Genre: Tracking genre trends helps identify evergreen genres, emerging popular genres, or genres that are being phased out. This can guide future content acquisition, development, and marketing. Investing in genres showing sustained or growing popularity is a positive business impact. Identifying genres that are decreasing in volume despite potential demand could highlight opportunities or gaps.\n"
      ],
      "metadata": {
        "id": "jLNxxz7MYrdP"
      }
    },
    {
      "cell_type": "markdown",
      "source": [
        "#### Chart - 5"
      ],
      "metadata": {
        "id": "bamQiAODYuh1"
      }
    },
    {
      "cell_type": "code",
      "source": [
        "# box plot of runtime trends over years\n",
        "\n",
        "# Filter data for movies\n",
        "movies_df = merged_df[merged_df['type'] == 'MOVIE'].copy()\n",
        "\n",
        "# Group movies by release year and calculate the mean runtime for each year\n",
        "# Use 'id' to group by unique movies first, then calculate the mean runtime for each year\n",
        "mean_runtime_per_year = movies_df.groupby('release_year')['runtime'].mean().reset_index()\n",
        "\n",
        "# Consider a reasonable range of years for visualization\n",
        "# Let's filter for years where there's a substantial number of movies, e.g., after 1980\n",
        "mean_runtime_per_year_filtered = mean_runtime_per_year[mean_runtime_per_year['release_year'] >= 1980]\n",
        "\n",
        "# Chart visualization code - Line chart for mean movie runtime over years\n",
        "plt.figure(figsize=(14, 7))\n",
        "sns.lineplot(data=mean_runtime_per_year_filtered, x='release_year', y='runtime')\n",
        "plt.xlabel(\"Release Year\")\n",
        "plt.ylabel(\"Mean Movie Runtime (minutes)\")\n",
        "plt.title(\"Mean Movie Runtime Trend Over Release Years\")\n",
        "plt.grid(True)\n",
        "plt.tight_layout()\n",
        "plt.show()\n",
        "\n",
        "# Prepare data for box plot of runtime trends over years\n",
        "# We can sample the data or group into bins if the number of years is too large for a box plot\n",
        "# Let's group by decades for better visualization with box plots\n",
        "movies_df['decade'] = (movies_df['release_year'] // 10) * 10\n",
        "\n",
        "# Filter out decades with very few entries if necessary, or focus on recent decades\n",
        "# Let's focus on decades from 1980s onwards\n",
        "movies_df_filtered_decades = movies_df[movies_df['decade'] >= 1980].copy()\n",
        "\n",
        "# Remove any outliers or extreme values in runtime if needed for better box plot clarity\n",
        "# For example, movies with runtime > 240 mins might be considered outliers for this analysis\n",
        "movies_df_filtered_decades = movies_df_filtered_decades[movies_df_filtered_decades['runtime'] < 240]\n",
        "\n",
        "\n",
        "# Chart visualization code - Box plot of movie runtime distribution per decade\n",
        "plt.figure(figsize=(14, 8))\n",
        "# Ensure the decades are sorted for the x-axis\n",
        "sns.boxplot(data=movies_df_filtered_decades.sort_values(by='decade'), x='decade', y='runtime', palette='viridis')\n",
        "plt.xlabel(\"Release Decade\")\n",
        "plt.ylabel(\"Movie Runtime (minutes)\")\n",
        "plt.title(\"Distribution of Movie Runtime by Release Decade\")\n",
        "plt.grid(axis='y', linestyle='--')\n",
        "plt.tight_layout()\n",
        "plt.show()\n"
      ],
      "metadata": {
        "id": "TIJwrbroYuh3"
      },
      "execution_count": null,
      "outputs": []
    },
    {
      "cell_type": "markdown",
      "source": [
        "##### 1. Why did you pick the specific chart?"
      ],
      "metadata": {
        "id": "QHF8YVU7Yuh3"
      }
    },
    {
      "cell_type": "markdown",
      "source": [
        "A box plot is ideal for visualizing the distribution of a numerical variable (runtime) across different categories (decades of release). Unlike a line chart showing only the mean, the box plot displays the median, quartiles, whiskers (showing range), and outliers for each decade. This provides a richer understanding of how the typical movie runtime has varied over time, including the spread and skewness of the data within each period.\n"
      ],
      "metadata": {
        "id": "dcxuIMRPYuh3"
      }
    },
    {
      "cell_type": "markdown",
      "source": [
        "##### 2. What is/are the insight(s) found from the chart?"
      ],
      "metadata": {
        "id": "GwzvFGzlYuh3"
      }
    },
    {
      "cell_type": "markdown",
      "source": [
        "The box plot reveals insights into the evolution of movie runtimes. We can observe:\n",
        "1. **Median Runtime:** How the central tendency (median, represented by the line inside the box) of movie runtimes has changed across decades.\n",
        "2. **Runtime Spread:** How consistent or variable movie runtimes were within each decade (shown by the height of the box, representing the interquartile range).\n",
        "3. **Outliers:** If there are significantly longer or shorter movies in certain decades (shown by individual points beyond the whiskers).\n",
        "It might show a relatively stable median runtime over recent decades, but perhaps changes in the variability or the presence of more extremely long films.\n"
      ],
      "metadata": {
        "id": "uyqkiB8YYuh3"
      }
    },
    {
      "cell_type": "markdown",
      "source": [
        "##### 3. Will the gained insights help creating a positive business impact?\n",
        "Are there any insights that lead to negative growth? Justify with specific reason."
      ],
      "metadata": {
        "id": "qYpmQ266Yuh3"
      }
    },
    {
      "cell_type": "markdown",
      "source": [
        "Yes. Understanding typical movie runtimes and their trends can inform content strategy.\n",
        "- **Viewer Preference:** Knowing the common runtime ranges can help align acquisition or production with audience expectations. If viewers prefer shorter or longer formats, this data can guide decisions.\n",
        "- **Platform Design:** Runtime data influences features like autoplay, recommendations, and user interface design.\n",
        "- **Content Packaging:** It can help in grouping content or suggesting watch times.\n",
        "For example, if there's a trend towards slightly longer films, ensuring the platform handles longer playback sessions smoothly is important.\n"
      ],
      "metadata": {
        "id": "_WtzZ_hCYuh4"
      }
    },
    {
      "cell_type": "markdown",
      "source": [
        "#### Chart - 6"
      ],
      "metadata": {
        "id": "OH-pJp9IphqM"
      }
    },
    {
      "cell_type": "code",
      "source": [
        "# Scatter Plot: IMDb Score vs. TMDb Popularity (color by type)\n",
        "\n",
        "import matplotlib.pyplot as plt\n",
        "# Chart visualization code\n",
        "plt.figure(figsize=(10, 6))\n",
        "sns.scatterplot(data=merged_df, x='imdb_score', y='tmdb_popularity', hue='type', alpha=0.6)\n",
        "plt.xlabel(\"IMDb Score\")\n",
        "plt.ylabel(\"TMDb Popularity\")\n",
        "plt.title(\"Scatter Plot: IMDb Score vs. TMDb Popularity (Colored by Type)\")\n",
        "plt.grid(True, linestyle='--', alpha=0.6)\n",
        "plt.tight_layout()\n",
        "plt.show()"
      ],
      "metadata": {
        "id": "kuRf4wtuphqN"
      },
      "execution_count": null,
      "outputs": []
    },
    {
      "cell_type": "markdown",
      "source": [
        "##### 1. Why did you pick the specific chart?"
      ],
      "metadata": {
        "id": "bbFf2-_FphqN"
      }
    },
    {
      "cell_type": "markdown",
      "source": [
        "A scatter plot is ideal for visualizing the relationship between two numerical variables. By plotting IMDb Score against TMDb Popularity, we can observe if there's a correlation between how titles are rated on IMDb and how popular they are on TMDb. Coloring the points by 'type' (Movie or TV Show) adds another layer of insight, allowing us to see if this relationship differs for movies and TV shows."
      ],
      "metadata": {
        "id": "loh7H2nzphqN"
      }
    },
    {
      "cell_type": "markdown",
      "source": [
        "##### 2. What is/are the insight(s) found from the chart?"
      ],
      "metadata": {
        "id": "_ouA3fa0phqN"
      }
    },
    {
      "cell_type": "markdown",
      "source": [
        "Based on the scatter plot of IMDb Score vs. TMDb Popularity (colored by Type), here are some potential insights:\n",
        "\n",
        "Insights:\n",
        "\n",
        "Correlation between IMDb Score and TMDb Popularity: The scatter plot allows us to visually assess if there is a positive correlation between IMDb score and TMDb popularity. A general trend where titles with higher IMDb scores also have higher TMDb popularity would suggest that critically well-regarded content tends to be more popular.\\\n",
        "\n",
        "Differences between Movies and TV Shows: The color coding by type helps to see if the relationship between score and popularity differs for Movies and TV Shows. For example, TV Shows might cluster in a different area of the plot or show a stronger or weaker correlation than Movies.\\\n",
        "\n",
        "Presence of High-Popularity, Low-Score Content: The plot can reveal if there are titles with high TMDb popularity but relatively low IMDb scores. These could be titles that are heavily marketed, controversial, or appeal to a broad audience despite not being critically acclaimed.\\\n",
        "Presence of High-Score, Low-Popularity Content: Conversely, the plot might show titles with high IMDb scores but low TMDb popularity. These could be hidden gems, niche content, or older titles that are critically well-regarded but not currently trending.\\\n",
        "\n",
        "Distribution and Clusters: The spread of the points can show the overall distribution of content in terms of score and popularity. Are there distinct clusters of content with similar score/popularity profiles?"
      ],
      "metadata": {
        "id": "VECbqPI7phqN"
      }
    },
    {
      "cell_type": "markdown",
      "source": [
        "##### 3. Will the gained insights help creating a positive business impact?\n",
        "Are there any insights that lead to negative growth? Justify with specific reason."
      ],
      "metadata": {
        "id": "Seke61FWphqN"
      }
    },
    {
      "cell_type": "markdown",
      "source": [
        "Insights that lead to negative growth:\n",
        "\n",
        "An insight that could potentially lead to negative growth is if the chart reveals a significant portion of the content library, especially in high-volume categories, falls into the \"low IMDb score, low TMDb popularity\" area. This would indicate a substantial amount of content that is neither critically acclaimed nor popular with viewers, suggesting poor content acquisition or production decisions in those areas. Continuing to add such content would likely lead to decreased user engagement, lower satisfaction, and potentially increased churn, negatively impacting subscriber growth and retention.\n",
        "\n"
      ],
      "metadata": {
        "id": "DW4_bGpfphqN"
      }
    },
    {
      "cell_type": "markdown",
      "source": [
        "#### Chart - 7"
      ],
      "metadata": {
        "id": "PIIx-8_IphqN"
      }
    },
    {
      "cell_type": "code",
      "source": [
        "# prompt: Histogram / KDE Plot: Distribution of imdb_score, tmdb_score, or tmdb_popularity\n",
        "\n",
        "import matplotlib.pyplot as plt\n",
        "# Chart visualization code\n",
        "plt.figure(figsize=(12, 6))\n",
        "sns.histplot(data=merged_df, x='imdb_score', kde=True, hue='type', multiple='stack', palette='viridis', bins=30)\n",
        "plt.xlabel(\"IMDb Score\")\n",
        "plt.ylabel(\"Frequency\")\n",
        "plt.title(\"Distribution of IMDb Scores by Content Type\")\n",
        "plt.tight_layout()\n",
        "plt.show()\n",
        "\n",
        "plt.figure(figsize=(12, 6))\n",
        "sns.histplot(data=merged_df, x='tmdb_score', kde=True, hue='type', multiple='stack', palette='viridis', bins=30)\n",
        "plt.xlabel(\"TMDb Score\")\n",
        "plt.ylabel(\"Frequency\")\n",
        "plt.title(\"Distribution of TMDb Scores by Content Type\")\n",
        "plt.tight_layout()\n",
        "plt.show()\n",
        "\n",
        "plt.figure(figsize=(12, 6))\n",
        "sns.histplot(data=merged_df, x='tmdb_popularity', kde=True, hue='type', multiple='stack', palette='viridis', bins=50) # More bins for popularity\n",
        "plt.xlabel(\"TMDb Popularity\")\n",
        "plt.ylabel(\"Frequency\")\n",
        "plt.title(\"Distribution of TMDb Popularity by Content Type\")\n",
        "plt.tight_layout()\n",
        "plt.show()\n"
      ],
      "metadata": {
        "id": "lqAIGUfyphqO"
      },
      "execution_count": null,
      "outputs": []
    },
    {
      "cell_type": "markdown",
      "source": [
        "##### 1. Why did you pick the specific chart?"
      ],
      "metadata": {
        "id": "t27r6nlMphqO"
      }
    },
    {
      "cell_type": "markdown",
      "source": [
        "Answer Here."
      ],
      "metadata": {
        "id": "iv6ro40sphqO"
      }
    },
    {
      "cell_type": "markdown",
      "source": [
        "##### 2. What is/are the insight(s) found from the chart?"
      ],
      "metadata": {
        "id": "r2jJGEOYphqO"
      }
    },
    {
      "cell_type": "markdown",
      "source": [
        "Answer Here"
      ],
      "metadata": {
        "id": "Po6ZPi4hphqO"
      }
    },
    {
      "cell_type": "markdown",
      "source": [
        "##### 3. Will the gained insights help creating a positive business impact?\n",
        "Are there any insights that lead to negative growth? Justify with specific reason."
      ],
      "metadata": {
        "id": "b0JNsNcRphqO"
      }
    },
    {
      "cell_type": "markdown",
      "source": [
        "Answer Here"
      ],
      "metadata": {
        "id": "xvSq8iUTphqO"
      }
    },
    {
      "cell_type": "markdown",
      "source": [
        "#### Chart - 8"
      ],
      "metadata": {
        "id": "BZR9WyysphqO"
      }
    },
    {
      "cell_type": "code",
      "source": [
        "# prompt:  Top 10 Bar Chart: Top-rated titles (based on imdb_score or tmdb_popularity)\n",
        "\n",
        "import matplotlib.pyplot as plt\n",
        "# Calculate average IMDb score and TMDb popularity for each title\n",
        "# Group by unique title ID to avoid counting multiple cast/crew rows for the same title\n",
        "# and calculate the mean of the scores/popularity.\n",
        "title_ratings = merged_df.groupby('id').agg(\n",
        "    title=('title', 'first'),\n",
        "    type=('type', 'first'),\n",
        "    imdb_score=('imdb_score', 'mean'),\n",
        "    tmdb_popularity=('tmdb_popularity', 'mean')\n",
        ").reset_index()\n",
        "\n",
        "# Separate data for Movies and TV Shows\n",
        "movies_ratings = title_ratings[title_ratings['type'] == 'MOVIE']\n",
        "shows_ratings = title_ratings[title_ratings['type'] == 'SHOW']\n",
        "\n",
        "# Get Top 10 Movies by IMDb Score\n",
        "top_10_movies_imdb = movies_ratings.sort_values(by='imdb_score', ascending=False).head(10)\n",
        "\n",
        "# Get Top 10 TV Shows by IMDb Score\n",
        "top_10_shows_imdb = shows_ratings.sort_values(by='imdb_score', ascending=False).head(10)\n",
        "\n",
        "# Get Top 10 Movies by TMDb Popularity\n",
        "top_10_movies_tmdb_pop = movies_ratings.sort_values(by='tmdb_popularity', ascending=False).head(10)\n",
        "\n",
        "# Get Top 10 TV Shows by TMDb Popularity\n",
        "top_10_shows_tmdb_pop = shows_ratings.sort_values(by='tmdb_popularity', ascending=False).head(10)\n",
        "\n",
        "\n",
        "# Chart visualization code - Top 10 Movies by IMDb Score\n",
        "plt.figure(figsize=(12, 7))\n",
        "sns.barplot(x='imdb_score', y='title', data=top_10_movies_imdb, palette='viridis')\n",
        "plt.xlabel(\"IMDb Score\")\n",
        "plt.ylabel(\"Movie Title\")\n",
        "plt.title(\"Top 10 Movies by IMDb Score\")\n",
        "plt.tight_layout()\n",
        "plt.show()\n",
        "\n",
        "# Chart visualization code - Top 10 TV Shows by IMDb Score\n",
        "plt.figure(figsize=(12, 7))\n",
        "sns.barplot(x='imdb_score', y='title', data=top_10_shows_imdb, palette='viridis')\n",
        "plt.xlabel(\"IMDb Score\")\n",
        "plt.ylabel(\"TV Show Title\")\n",
        "plt.title(\"Top 10 TV Shows by IMDb Score\")\n",
        "plt.tight_layout()\n",
        "plt.show()\n",
        "\n",
        "# Chart visualization code - Top 10 Movies by TMDb Popularity\n",
        "plt.figure(figsize=(12, 7))\n",
        "sns.barplot(x='tmdb_popularity', y='title', data=top_10_movies_tmdb_pop, palette='viridis')\n",
        "plt.xlabel(\"TMDb Popularity\")\n",
        "plt.ylabel(\"Movie Title\")\n",
        "plt.title(\"Top 10 Movies by TMDb Popularity\")\n",
        "plt.tight_layout()\n",
        "plt.show()\n",
        "\n",
        "# Chart visualization code - Top 10 TV Shows by TMDb Popularity\n",
        "plt.figure(figsize=(12, 7))\n",
        "sns.barplot(x='tmdb_popularity', y='title', data=top_10_shows_tmdb_pop, palette='viridis')\n",
        "plt.xlabel(\"TMDb Popularity\")\n",
        "plt.ylabel(\"TV Show Title\")\n",
        "plt.title(\"Top 10 TV Shows by TMDb Popularity\")\n",
        "plt.tight_layout()\n",
        "plt.show()\n",
        "\n"
      ],
      "metadata": {
        "id": "TdPTWpAVphqO"
      },
      "execution_count": null,
      "outputs": []
    },
    {
      "cell_type": "markdown",
      "source": [
        "##### 1. Why did you pick the specific chart?"
      ],
      "metadata": {
        "id": "jj7wYXLtphqO"
      }
    },
    {
      "cell_type": "markdown",
      "source": [
        "Answer Here."
      ],
      "metadata": {
        "id": "Ob8u6rCTphqO"
      }
    },
    {
      "cell_type": "markdown",
      "source": [
        "##### 2. What is/are the insight(s) found from the chart?"
      ],
      "metadata": {
        "id": "eZrbJ2SmphqO"
      }
    },
    {
      "cell_type": "markdown",
      "source": [
        "Answer Here"
      ],
      "metadata": {
        "id": "mZtgC_hjphqO"
      }
    },
    {
      "cell_type": "markdown",
      "source": [
        "##### 3. Will the gained insights help creating a positive business impact?\n",
        "Are there any insights that lead to negative growth? Justify with specific reason."
      ],
      "metadata": {
        "id": "rFu4xreNphqO"
      }
    },
    {
      "cell_type": "markdown",
      "source": [
        "Answer Here"
      ],
      "metadata": {
        "id": "ey_0qi68phqO"
      }
    },
    {
      "cell_type": "markdown",
      "source": [
        "#### Chart - 9"
      ],
      "metadata": {
        "id": "YJ55k-q6phqO"
      }
    },
    {
      "cell_type": "code",
      "source": [
        "# Heatmap: IMDb score by genre and age certification\n",
        "\n",
        "import matplotlib.pyplot as plt\n",
        "# Group by age certification and calculate the mean IMDb score\n",
        "age_certification_imdb = merged_df.groupby('age_certification')['imdb_score'].mean().reset_index()\n",
        "\n",
        "# Sort by mean IMDb score\n",
        "age_certification_imdb = age_certification_imdb.sort_values(by='imdb_score', ascending=False)\n",
        "\n",
        "# Chart visualization code - Bar plot of mean IMDb score by age certification\n",
        "plt.figure(figsize=(10, 6))\n",
        "sns.barplot(x='age_certification', y='imdb_score', data=age_certification_imdb, palette='viridis')\n",
        "plt.xlabel(\"Age Certification\")\n",
        "plt.ylabel(\"Mean IMDb Score\")\n",
        "plt.title(\"Mean IMDb Score by Age Certification\")\n",
        "plt.xticks(rotation=45, ha='right')\n",
        "plt.tight_layout()\n",
        "plt.show()\n",
        "\n",
        "\n",
        "# Prepare data for heatmap: IMDb score by genre and age certification\n",
        "# Explode genres\n",
        "exploded_genres_df = merged_df.explode('genres')\n",
        "\n",
        "# Group by age_certification and genre and calculate the mean IMDb score\n",
        "# Ensure we handle potential NaNs after grouping if any groups have no score data (though we filled scores earlier)\n",
        "genre_age_imdb_pivot = exploded_genres_df.groupby(['age_certification', 'genres'])['imdb_score'].mean().unstack()\n",
        "\n",
        "# Consider a reasonable number of age certifications and genres for the heatmap\n",
        "# Let's use all age certifications since there are not too many\n",
        "# Let's use the top 15 genres from the previous analysis for better readability\n",
        "top_genres_for_heatmap = genre_counts.head(15).index.tolist()\n",
        "\n",
        "# Filter the pivot table to include only top genres\n",
        "# Need to handle cases where a top genre might not exist for a specific age certification\n",
        "heatmap_data_genre_age = genre_age_imdb_pivot.reindex(columns=top_genres_for_heatmap)\n",
        "\n",
        "\n",
        "# Chart visualization code - Heatmap of mean IMDb score by Age Certification and Genre\n",
        "plt.figure(figsize=(16, 10))\n",
        "sns.heatmap(heatmap_data_genre_age, annot=True, fmt=\".2f\", cmap=\"YlGnBu\", linewidths=.5)\n",
        "plt.xlabel(\"Genre\")\n",
        "plt.ylabel(\"Age Certification\")\n",
        "plt.title(\"Heatmap of Mean IMDb Score by Age Certification and Genre\")\n",
        "plt.tight_layout()\n",
        "plt.show()\n"
      ],
      "metadata": {
        "id": "B2aS4O1ophqO"
      },
      "execution_count": null,
      "outputs": []
    },
    {
      "cell_type": "markdown",
      "source": [
        "##### 1. Why did you pick the specific chart?"
      ],
      "metadata": {
        "id": "gCFgpxoyphqP"
      }
    },
    {
      "cell_type": "markdown",
      "source": [
        "-- The first bar chart is used to quickly compare the average IMDb scores across different age certifications. This gives a high-level overview of which age ratings are associated with higher-rated content on average.\\\n",
        "\n",
        "\n",
        "-- The second chart, a heatmap, is used to visualize the relationship and mean IMDb scores across two categorical variables simultaneously: Age Certification and Genre. It allows for the easy identification of specific genre-age rating combinations that tend to have higher or lower average IMDb scores, highlighting potential areas of strength or weakness in content quality within specific niches.\n"
      ],
      "metadata": {
        "id": "TVxDimi2phqP"
      }
    },
    {
      "cell_type": "markdown",
      "source": [
        "##### 2. What is/are the insight(s) found from the chart?"
      ],
      "metadata": {
        "id": "OVtJsKN_phqQ"
      }
    },
    {
      "cell_type": "markdown",
      "source": [
        "From the bar chart: We can see which age certifications, on average, correspond to higher IMDb scores. This might show that certain certifications (e.g., R, PG-13, or even specific children's ratings) are associated with more critically acclaimed content than others (like TV-MA or G). The 'Not Rated' category might have a varied average score depending on the quality of included content.\n",
        "From the heatmap: This chart provides a more granular view. It can reveal, for example, that 'Drama' content with an 'R' certification has a high average IMDb score, while 'Comedy' content with a 'G' certification might have a lower average score. It highlights the performance (based on IMDb score) of different genre content for specific target audiences (represented by age certification). Some cells in the heatmap might have 'NaN' or a value close to the overall average (which we filled missing values with), indicating either no content or content with average scores in that specific genre-certification combination.\n"
      ],
      "metadata": {
        "id": "ngGi97qjphqQ"
      }
    },
    {
      "cell_type": "markdown",
      "source": [
        "##### 3. Will the gained insights help creating a positive business impact?\n",
        "Are there any insights that lead to negative growth? Justify with specific reason."
      ],
      "metadata": {
        "id": "lssrdh5qphqQ"
      }
    },
    {
      "cell_type": "markdown",
      "source": [
        "Yes, significantly.\n",
        "- By Age Certification: Understanding which age ratings are associated with higher average scores helps prioritize content acquisition or production for those demographics/rating categories if the goal is to increase overall perceived content quality (based on IMDb scores).\n",
        "- By Age Certification and Genre: The heatmap provides actionable insights. If the heatmap shows high scores for a specific genre-certification pair (e.g., 'Action' with 'PG-13'), it suggests that Amazon Prime has well-regarded content in that niche, which can be leveraged for marketing and recommendations. Conversely, if a major genre-certification combination has consistently low scores, it might indicate a need to improve the quality of content acquired or produced in that specific area, potentially by focusing on better-reviewed titles or shifting strategy. This can directly inform content development, acquisition, and catalog curation to meet audience expectations for quality within different content niches.\n"
      ],
      "metadata": {
        "id": "tBpY5ekJphqQ"
      }
    },
    {
      "cell_type": "markdown",
      "source": [
        "#### Chart - 10"
      ],
      "metadata": {
        "id": "U2RJ9gkRphqQ"
      }
    },
    {
      "cell_type": "code",
      "source": [
        "# Age Suitability: Bar chart of content count per age_certification\n",
        "\n",
        "import matplotlib.pyplot as plt\n",
        "# Count the occurrences of each age certification\n",
        "age_certification_counts = merged_df['age_certification'].value_counts().reset_index()\n",
        "age_certification_counts.columns = ['age_certification', 'count']\n",
        "\n",
        "# Chart visualization code\n",
        "plt.figure(figsize=(10, 6))\n",
        "sns.barplot(x='age_certification', y='count', data=age_certification_counts, palette='viridis')\n",
        "plt.xlabel(\"Age Certification\")\n",
        "plt.ylabel(\"Number of Titles\")\n",
        "plt.title(\"Content Count by Age Certification\")\n",
        "plt.xticks(rotation=45, ha='right')\n",
        "plt.tight_layout()\n",
        "plt.show()\n"
      ],
      "metadata": {
        "id": "GM7a4YP4phqQ"
      },
      "execution_count": null,
      "outputs": []
    },
    {
      "cell_type": "markdown",
      "source": [
        "##### 1. Why did you pick the specific chart?"
      ],
      "metadata": {
        "id": "1M8mcRywphqQ"
      }
    },
    {
      "cell_type": "markdown",
      "source": [
        "A bar chart is used to display the frequency of different age certifications in the dataset. It clearly shows the distribution of content across different age ratings, making it easy to see which certifications are most common.\n"
      ],
      "metadata": {
        "id": "8agQvks0phqQ"
      }
    },
    {
      "cell_type": "markdown",
      "source": [
        "##### 2. What is/are the insight(s) found from the chart?"
      ],
      "metadata": {
        "id": "tgIPom80phqQ"
      }
    },
    {
      "cell_type": "markdown",
      "source": [
        "The chart shows the volume of content available for different age groups or sensitivities. It likely reveals which age certifications (e.g., PG, PG-13, TV-MA, Not Rated) have the largest number of titles. This gives insight into the target demographics the platform caters to most heavily. The 'Not Rated' category will also show its proportion, indicating how much content lacks a standard certification.\n"
      ],
      "metadata": {
        "id": "Qp13pnNzphqQ"
      }
    },
    {
      "cell_type": "markdown",
      "source": [
        "##### 3. Will the gained insights help creating a positive business impact?\n",
        "Are there any insights that lead to negative growth? Justify with specific reason."
      ],
      "metadata": {
        "id": "JMzcOPDDphqR"
      }
    },
    {
      "cell_type": "markdown",
      "source": [
        "Yes. Understanding the age suitability distribution of the content library is crucial for several reasons:\n",
        "- **Target Audience:** It helps confirm if the content mix aligns with the platform's desired target audience segments.\n",
        "- **Content Gaps:** It can highlight areas where the platform might be lacking content (e.g., insufficient content for younger audiences if that's a strategic goal, or too much unrated content).\n",
        "- **Marketing:** This data can inform marketing efforts to highlight the breadth of content available for specific age groups (e.g., promoting family-friendly content if G/PG titles are abundant).\n",
        "- **Compliance:** Knowing the distribution helps ensure the platform meets regional content regulations regarding age ratings.\n"
      ],
      "metadata": {
        "id": "R4Ka1PC2phqR"
      }
    },
    {
      "cell_type": "markdown",
      "source": [
        "#### Chart - 11"
      ],
      "metadata": {
        "id": "x-EpHcCOp1ci"
      }
    },
    {
      "cell_type": "code",
      "source": [
        "#  Role Analysis: Count of role (e.g., Actor, Director)\n",
        "\n",
        "import matplotlib.pyplot as plt\n",
        "# Count the number of occurrences for each role\n",
        "role_counts = merged_df['role'].value_counts().reset_index()\n",
        "role_counts.columns = ['role', 'count']\n",
        "\n",
        "# Chart visualization code\n",
        "plt.figure(figsize=(8, 6))\n",
        "sns.barplot(x='role', y='count', data=role_counts, palette='viridis')\n",
        "plt.xlabel(\"Role\")\n",
        "plt.ylabel(\"Number of Credits\") # Number of times a role appears in the dataset\n",
        "plt.title(\"Distribution of Credits by Role (Actor vs. Director)\")\n",
        "plt.tight_layout()\n",
        "plt.show()"
      ],
      "metadata": {
        "id": "mAQTIvtqp1cj"
      },
      "execution_count": null,
      "outputs": []
    },
    {
      "cell_type": "markdown",
      "source": [
        "##### 1. Why did you pick the specific chart?"
      ],
      "metadata": {
        "id": "X_VqEhTip1ck"
      }
    },
    {
      "cell_type": "markdown",
      "source": [
        "A bar chart is ideal for comparing the frequency of different categories. Here, it effectively shows the count of entries for each distinct role (Actor and Director) within the credits data, providing a clear comparison of how often each role is represented in the dataset.\n"
      ],
      "metadata": {
        "id": "-vsMzt_np1ck"
      }
    },
    {
      "cell_type": "markdown",
      "source": [
        "##### 2. What is/are the insight(s) found from the chart?"
      ],
      "metadata": {
        "id": "8zGJKyg5p1ck"
      }
    },
    {
      "cell_type": "markdown",
      "source": [
        "The chart clearly shows the disparity in the number of credits for Actors compared to Directors. It is evident that there are significantly more entries for 'ACTOR' than 'DIRECTOR'. This is expected as typically a movie or TV show has many actors but only one or a few directors.\n"
      ],
      "metadata": {
        "id": "ZYdMsrqVp1ck"
      }
    },
    {
      "cell_type": "markdown",
      "source": [
        "##### 3. Will the gained insights help creating a positive business impact?\n",
        "Are there any insights that lead to negative growth? Justify with specific reason."
      ],
      "metadata": {
        "id": "PVzmfK_Ep1ck"
      }
    },
    {
      "cell_type": "markdown",
      "source": [
        "This insight helps in understanding the structure of the credits data and can inform how to analyze cast and crew information. For example, when analyzing the prominence of individuals, one might need to normalize counts or focus on metrics other than just the raw number of credits. It confirms that actor-centric analysis will involve a much larger volume of data points compared to director-centric analysis. This could be useful for optimizing database queries or processing pipelines depending on the focus (e.g., building an actor recommendation system vs. a director filmography feature).\n"
      ],
      "metadata": {
        "id": "druuKYZpp1ck"
      }
    },
    {
      "cell_type": "markdown",
      "source": [
        "#### Chart - 12"
      ],
      "metadata": {
        "id": "n3dbpmDWp1ck"
      }
    },
    {
      "cell_type": "markdown",
      "source": [
        "##### 1. Why did you pick the specific chart?"
      ],
      "metadata": {
        "id": "ylSl6qgtp1ck"
      }
    },
    {
      "cell_type": "markdown",
      "source": [
        "Answer Here."
      ],
      "metadata": {
        "id": "m2xqNkiQp1ck"
      }
    },
    {
      "cell_type": "markdown",
      "source": [
        "##### 2. What is/are the insight(s) found from the chart?"
      ],
      "metadata": {
        "id": "ZWILFDl5p1ck"
      }
    },
    {
      "cell_type": "markdown",
      "source": [
        "Answer Here"
      ],
      "metadata": {
        "id": "x-lUsV2mp1ck"
      }
    },
    {
      "cell_type": "markdown",
      "source": [
        "##### 3. Will the gained insights help creating a positive business impact?\n",
        "Are there any insights that lead to negative growth? Justify with specific reason."
      ],
      "metadata": {
        "id": "M7G43BXep1ck"
      }
    },
    {
      "cell_type": "markdown",
      "source": [
        "Answer Here"
      ],
      "metadata": {
        "id": "5wwDJXsLp1cl"
      }
    },
    {
      "cell_type": "markdown",
      "source": [
        "#### Chart - 13"
      ],
      "metadata": {
        "id": "Ag9LCva-p1cl"
      }
    },
    {
      "cell_type": "markdown",
      "source": [
        "##### 1. Why did you pick the specific chart?"
      ],
      "metadata": {
        "id": "E6MkPsBcp1cl"
      }
    },
    {
      "cell_type": "markdown",
      "source": [
        "Answer Here."
      ],
      "metadata": {
        "id": "V22bRsFWp1cl"
      }
    },
    {
      "cell_type": "markdown",
      "source": [
        "##### 2. What is/are the insight(s) found from the chart?"
      ],
      "metadata": {
        "id": "2cELzS2fp1cl"
      }
    },
    {
      "cell_type": "markdown",
      "source": [
        "Answer Here"
      ],
      "metadata": {
        "id": "ozQPc2_Ip1cl"
      }
    },
    {
      "cell_type": "markdown",
      "source": [
        "##### 3. Will the gained insights help creating a positive business impact?\n",
        "Are there any insights that lead to negative growth? Justify with specific reason."
      ],
      "metadata": {
        "id": "3MPXvC8up1cl"
      }
    },
    {
      "cell_type": "markdown",
      "source": [
        "Answer Here"
      ],
      "metadata": {
        "id": "GL8l1tdLp1cl"
      }
    },
    {
      "cell_type": "markdown",
      "source": [
        "#### Chart - 14 - Correlation Heatmap"
      ],
      "metadata": {
        "id": "NC_X3p0fY2L0"
      }
    },
    {
      "cell_type": "code",
      "source": [
        "# Correlation Heatmap\n",
        "\n",
        "import matplotlib.pyplot as plt\n",
        "import numpy as np\n",
        "# Chart visualization code - Correlation Heatmap\n",
        "# Select numerical columns for correlation analysis\n",
        "numerical_cols = merged_df.select_dtypes(include=np.number)\n",
        "\n",
        "# Calculate the correlation matrix\n",
        "correlation_matrix = numerical_cols.corr()\n",
        "\n",
        "# Plot the heatmap\n",
        "plt.figure(figsize=(10, 8))\n",
        "sns.heatmap(correlation_matrix, annot=True, cmap='coolwarm', fmt=\".2f\", linewidths=.5)\n",
        "plt.title(\"Correlation Heatmap of Numerical Features\")\n",
        "plt.tight_layout()\n",
        "plt.show()\n",
        "\n"
      ],
      "metadata": {
        "id": "xyC9zolEZNRQ"
      },
      "execution_count": null,
      "outputs": []
    },
    {
      "cell_type": "markdown",
      "source": [
        "##### 1. Why did you pick the specific chart?"
      ],
      "metadata": {
        "id": "UV0SzAkaZNRQ"
      }
    },
    {
      "cell_type": "markdown",
      "source": [
        "A heatmap is an ideal visualization to display the correlation matrix between numerical variables. It uses color intensity to represent the strength and direction (positive or negative) of the correlation coefficient between each pair of variables, making it easy to quickly identify which numerical features are highly correlated with each other. The `annot=True` feature displays the correlation values on the heatmap, adding precision to the visual interpretation.\n"
      ],
      "metadata": {
        "id": "DVPuT8LYZNRQ"
      }
    },
    {
      "cell_type": "markdown",
      "source": [
        "##### 2. What is/are the insight(s) found from the chart?"
      ],
      "metadata": {
        "id": "YPEH6qLeZNRQ"
      }
    },
    {
      "cell_type": "markdown",
      "source": [
        "The heatmap reveals the linear relationships between numerical features such as `release_year`, `runtime`, `seasons`, `imdb_score`, `imdb_votes`, `tmdb_popularity`, and `tmdb_score`.\n",
        "Key insights might include:\n",
        "- Correlations between different rating systems (e.g., `imdb_score` vs. `tmdb_score`). A high positive correlation would indicate that titles with high IMDb scores also tend to have high TMDB scores.\n",
        "- Correlations between ratings/popularity and votes (e.g., `imdb_score` vs. `imdb_votes`). It's expected that higher scores might correlate positively with more votes, as popular/well-regarded content often receives more attention and ratings.\n",
        "- Correlation between `seasons` and other metrics. `Seasons` will likely have low or negligible correlation with metrics for movies, as the value is 0 for movies. For TV shows, it might show some correlation with `imdb_votes` or `tmdb_popularity` if longer-running shows tend to accumulate more votes/popularity.\n",
        "- Correlation between `release_year` and other metrics. This could reveal if newer content tends to have different characteristics (e.g., potentially higher `tmdb_popularity` due to recent buzz, or perhaps no strong trend in scores/runtime based solely on year).\n"
      ],
      "metadata": {
        "id": "bfSqtnDqZNRR"
      }
    },
    {
      "cell_type": "markdown",
      "source": [
        "#### Chart - 15 - Pair Plot"
      ],
      "metadata": {
        "id": "q29F0dvdveiT"
      }
    },
    {
      "cell_type": "code",
      "source": [
        "# Pair Plot\n",
        "\n",
        "import matplotlib.pyplot as plt\n",
        "# Select numerical columns for the pair plot\n",
        "# Exclude columns like 'person_id', 'release_year', 'decade' as they might not be relevant\n",
        "# for a pairwise scatter plot with scores/popularity/runtime/votes\n",
        "numerical_cols_for_pairplot = merged_df[['runtime', 'imdb_score', 'imdb_votes', 'tmdb_popularity', 'tmdb_score']]\n",
        "\n",
        "# Due to the large number of data points, sampling or focusing on specific variables might be needed\n",
        "# A full pair plot on >124k rows might be slow and the scatter plots hard to read due to overplotting.\n",
        "# Let's sample the data for the pair plot or focus on the correlation heatmap which is more suitable for\n",
        "# seeing all pairwise correlations quickly.\n",
        "# However, if a visual representation of pairwise distributions is desired, let's sample.\n",
        "\n",
        "# Sample the data (e.g., 10% of the data) for a quicker and more readable pair plot\n",
        "sampled_df_for_pairplot = numerical_cols_for_pairplot.sample(frac=0.1, random_state=42)\n",
        "\n",
        "# Drop rows with NaN values in the selected columns if any (though we filled NaNs)\n",
        "sampled_df_for_pairplot.dropna(inplace=True)\n",
        "\n",
        "\n",
        "# Chart visualization code - Pair Plot (on sampled data)\n",
        "plt.figure(figsize=(12, 10))\n",
        "sns.pairplot(sampled_df_for_pairplot, diag_kind='kde') # diag_kind='kde' or 'hist'\n",
        "plt.suptitle(\"Pair Plot of Selected Numerical Features (Sampled Data)\", y=1.02) # Add title slightly above plots\n",
        "plt.tight_layout()\n",
        "plt.show()\n"
      ],
      "metadata": {
        "id": "o58-TEIhveiU"
      },
      "execution_count": null,
      "outputs": []
    },
    {
      "cell_type": "markdown",
      "source": [
        "##### 1. Why did you pick the specific chart?"
      ],
      "metadata": {
        "id": "EXh0U9oCveiU"
      }
    },
    {
      "cell_type": "markdown",
      "source": [
        "A pair plot is a multivariate visualization that creates a grid of scatter plots for every possible pair of selected numerical variables, along with histograms or kernel density estimates (KDE) for each variable on the diagonal. It's useful for visualizing pairwise relationships (linear or non-linear) and the distribution of individual variables simultaneously. While computationally intensive and potentially messy with large datasets, it provides a comprehensive overview of how each selected numerical variable relates to every other.\n"
      ],
      "metadata": {
        "id": "eMmPjTByveiU"
      }
    },
    {
      "cell_type": "markdown",
      "source": [
        "##### 2. What is/are the insight(s) found from the chart?"
      ],
      "metadata": {
        "id": "22aHeOlLveiV"
      }
    },
    {
      "cell_type": "markdown",
      "source": [
        "The pair plot allows us to visually inspect the pairwise relationships between numerical features like runtime, different scores (IMDb, TMDB), popularity, and votes.\n",
        "- **Scatter Plots:** The off-diagonal scatter plots show how one variable changes with respect to another. For example, the plot between `imdb_score` and `imdb_votes` might show an upward trend, indicating that titles with higher scores tend to receive more votes, though potentially with significant spread. The relationship between `runtime` and scores/popularity can also be observed.\n",
        "- **Diagonal Plots:** The diagonal plots (histograms or KDEs) show the distribution of each individual variable (e.g., the distribution of `imdb_score` values, or `tmdb_popularity`).\n",
        "While potentially challenging to interpret due to data volume and overplotting, the pair plot offers a preliminary visual scan for potential correlations, clusters, or non-linear relationships between these key numerical metrics.\n"
      ],
      "metadata": {
        "id": "uPQ8RGwHveiV"
      }
    },
    {
      "cell_type": "markdown",
      "source": [
        "## **5. Solution to Business Objective**"
      ],
      "metadata": {
        "id": "JcMwzZxoAimU"
      }
    },
    {
      "cell_type": "markdown",
      "source": [
        "#### What do you suggest the client to achieve Business Objective ?\n",
        "Explain Briefly."
      ],
      "metadata": {
        "id": "8G2x9gOozGDZ"
      }
    },
    {
      "cell_type": "markdown",
      "source": [
        "Based on the extensive exploratory data analysis of the Amazon Prime TV shows and movies dataset, several key insights have been uncovered regarding content distribution, genre popularity, rating trends, and the evolution of the content library over time.\n",
        "\n",
        "The analysis revealed that the library is dominated by certain genres, with a clear trend of increasing content volume in recent years, particularly for TV shows. We also observed varying average IMDb scores across different age certifications and genre combinations, highlighting areas of potential strength and weakness in content quality within specific niches. The relationship between IMDb scores and TMDB popularity was explored, identifying both critically acclaimed popular titles and potentially undervalued content.\n",
        "\n",
        "The data wrangling process successfully handled duplicate entries and missing values, ensuring a clean and reliable dataset for analysis. Feature engineering, such as extracting primary genres and countries, provided valuable dimensions for visualization and interpretation.\n",
        "\n",
        "In conclusion, the EDA has provided a solid foundation for understanding the Amazon Prime content landscape. The insights gained can directly inform strategic decisions related to content acquisition, production, curation, and marketing to optimize the platform's offerings and enhance user engagement in the competitive streaming market. Further analysis could delve deeper into specific genre performance, audience demographics, and the impact of production countries on content characteristics and success."
      ],
      "metadata": {
        "id": "pASKb0qOza21"
      }
    },
    {
      "cell_type": "markdown",
      "source": [
        "# **Conclusion**"
      ],
      "metadata": {
        "id": "gCX9965dhzqZ"
      }
    },
    {
      "cell_type": "markdown",
      "source": [
        "Based on the extensive exploratory data analysis of the Amazon Prime TV shows and movies dataset, several key insights have been uncovered regarding content distribution, genre popularity, rating trends, and the evolution of the content library over time.\n",
        "\n",
        "The analysis revealed that the library is dominated by certain genres, with a clear trend of increasing content volume in recent years, particularly for TV shows. We also observed varying average IMDb scores across different age certifications and genre combinations, highlighting areas of potential strength and weakness in content quality within specific niches. The relationship between IMDb scores and TMDB popularity was explored, identifying both critically acclaimed popular titles and potentially undervalued content.\n",
        "\n",
        "The data wrangling process successfully handled duplicate entries and missing values, ensuring a clean and reliable dataset for analysis. Feature engineering, such as extracting primary genres and countries, provided valuable dimensions for visualization and interpretation.\n",
        "\n",
        "In conclusion, the EDA has provided a solid foundation for understanding the Amazon Prime content landscape. The insights gained can directly inform strategic decisions related to content acquisition, production, curation, and marketing to optimize the platform's offerings and enhance user engagement in the competitive streaming market. Further analysis could delve deeper into specific genre performance, audience demographics, and the impact of production countries on content characteristics and success."
      ],
      "metadata": {
        "id": "Fjb1IsQkh3yE"
      }
    },
    {
      "cell_type": "markdown",
      "source": [
        "### ***Hurrah! You have successfully completed your EDA Capstone Project !!!***"
      ],
      "metadata": {
        "id": "gIfDvo9L0UH2"
      }
    },
    {
      "cell_type": "code",
      "source": [],
      "metadata": {
        "id": "dYX880etpL0x"
      },
      "execution_count": null,
      "outputs": []
    },
    {
      "cell_type": "code",
      "source": [],
      "metadata": {
        "id": "-6Vl263upPVI"
      },
      "execution_count": null,
      "outputs": []
    }
  ]
}